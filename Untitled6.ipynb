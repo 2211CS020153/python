{
  "nbformat": 4,
  "nbformat_minor": 0,
  "metadata": {
    "colab": {
      "provenance": [],
      "authorship_tag": "ABX9TyPHckerlhFIe4r2UWG0EgWQ",
      "include_colab_link": true
    },
    "kernelspec": {
      "name": "python3",
      "display_name": "Python 3"
    },
    "language_info": {
      "name": "python"
    }
  },
  "cells": [
    {
      "cell_type": "markdown",
      "metadata": {
        "id": "view-in-github",
        "colab_type": "text"
      },
      "source": [
        "<a href=\"https://colab.research.google.com/github/2211CS020153/python/blob/main/Untitled6.ipynb\" target=\"_parent\"><img src=\"https://colab.research.google.com/assets/colab-badge.svg\" alt=\"Open In Colab\"/></a>"
      ]
    },
    {
      "cell_type": "markdown",
      "source": [],
      "metadata": {
        "id": "IXyBddQg-bpS"
      }
    },
    {
      "cell_type": "code",
      "execution_count": 1,
      "metadata": {
        "id": "acoNCynI9abc"
      },
      "outputs": [],
      "source": [
        "\n",
        "l =[1,3,42,3,453,23,23,23,25,34,3,53,54,54,43]\n",
        "\n",
        "l1 =set(l )"
      ]
    },
    {
      "cell_type": "code",
      "source": [
        "l =[1,3,42,3,453,23,23,23,25,34,3,53,54,54,43]\n",
        "\n",
        "l1 =set(l )"
      ],
      "metadata": {
        "id": "X3_J4cV0HbqM"
      },
      "execution_count": 2,
      "outputs": []
    },
    {
      "cell_type": "code",
      "source": [
        "l1"
      ],
      "metadata": {
        "colab": {
          "base_uri": "https://localhost:8080/"
        },
        "id": "gl1cX65-HeYh",
        "outputId": "8bca001e-3c21-4daa-8989-eda06fa89b34"
      },
      "execution_count": 3,
      "outputs": [
        {
          "output_type": "execute_result",
          "data": {
            "text/plain": [
              "{1, 3, 23, 25, 34, 42, 43, 53, 54, 453}"
            ]
          },
          "metadata": {},
          "execution_count": 3
        }
      ]
    },
    {
      "cell_type": "code",
      "source": [],
      "metadata": {
        "id": "5mWHgEiJHi0i"
      },
      "execution_count": null,
      "outputs": []
    }
  ]
}